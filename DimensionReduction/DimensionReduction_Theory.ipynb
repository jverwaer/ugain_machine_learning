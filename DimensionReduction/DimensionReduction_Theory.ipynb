{
 "cells": [
  {
   "cell_type": "code",
   "execution_count": null,
   "id": "3415fb65",
   "metadata": {},
   "outputs": [],
   "source": [
    "import pandas as pd\n",
    "import sklearn\n",
    "from sklearn.manifold import TSNE\n",
    "from sklearn.preprocessing import StandardScaler\n",
    "from sklearn import datasets\n",
    "from sklearn.decomposition import PCA\n",
    "import numpy as np\n",
    "import matplotlib.pyplot as plt\n",
    "import plotnine\n",
    "from plotnine import *\n",
    "import seaborn as sns"
   ]
  },
  {
   "cell_type": "code",
   "execution_count": null,
   "id": "d7219659",
   "metadata": {
    "scrolled": false
   },
   "outputs": [],
   "source": [
    "url='https://raw.githubusercontent.com/jverwaer/ugain_machine_learning/main/Data/olympic.csv' #raw github link\n",
    "df=pd.read_csv(url)\n",
    "df.head()"
   ]
  },
  {
   "cell_type": "code",
   "execution_count": null,
   "id": "d361ce8c",
   "metadata": {
    "scrolled": true
   },
   "outputs": [],
   "source": [
    "sns.pairplot(df)"
   ]
  },
  {
   "cell_type": "code",
   "execution_count": null,
   "id": "562ff201",
   "metadata": {
    "scrolled": true
   },
   "outputs": [],
   "source": [
    "#with for loop scatters\n",
    "olympic_array=np.array(df.loc[:, 'm100':'m1500'])\n",
    "num_var=olympic_array.shape[1]\n",
    "\n",
    "fig, axs = plt.subplots(num_var, num_var)\n",
    "\n",
    "for i in range(num_var):\n",
    "    for j in range(num_var):\n",
    "        axs[i, j].scatter(olympic_array[:, i], olympic_array[:, j])\n",
    "        axs[i, j].axis('off')\n",
    "        rect = plt.Rectangle((0.1*i, 0.1*j), 0.10, 0.10, fill=False, color=\"k\", lw=2, zorder=1000, transform=fig.transFigure, figure=fig)\n",
    "        fig.patches.extend([rect])\n",
    "\n",
    "plt.tight_layout()\n",
    "plt.show()"
   ]
  },
  {
   "cell_type": "code",
   "execution_count": null,
   "id": "99457706",
   "metadata": {},
   "outputs": [],
   "source": [
    "#PCA\n",
    "X=df.loc[:, 'm100':'m1500']\n",
    "y=df.loc[:, 'score']\n",
    "\n",
    "# scale data and fit pca\n",
    "scaler = StandardScaler()\n",
    "scaler.fit(X)\n",
    "X=scaler.transform(X)    \n",
    "pca_model = PCA()\n",
    "x_new = pca_model.fit_transform(X)"
   ]
  },
  {
   "cell_type": "code",
   "execution_count": null,
   "id": "253c2013",
   "metadata": {},
   "outputs": [],
   "source": [
    "def scree_plot(pca_model):\n",
    "    PC_values = np.arange(pca_model.n_components_) + 1\n",
    "    plt.plot(PC_values, pca_model.explained_variance_ratio_, 'ro-', linewidth=2)\n",
    "    plt.title('Scree Plot')\n",
    "    plt.xlabel('Principal Component')\n",
    "    plt.ylabel('Proportion of Variance Explained')\n",
    "    return()"
   ]
  },
  {
   "cell_type": "code",
   "execution_count": null,
   "id": "bc010946",
   "metadata": {},
   "outputs": [],
   "source": [
    "def biplot_func(score, pca_model, labels=None, y=None, show_index=False):\n",
    "    coeff=np.transpose(pca_model.components_[0:2, :]).copy()\n",
    "    xs = score[:, 0]\n",
    "    ys = score[:, 1]\n",
    "    n = coeff.shape[0]\n",
    "    coeff[:, 0] = coeff[:,0]*xs.std()*np.sqrt(len(xs))\n",
    "    coeff[:, 1] = coeff[:,1]*ys.std()*np.sqrt(len(ys))\n",
    "    fig, ax = plt.subplots()\n",
    "    im = ax.scatter(xs, ys, c = y) #use y as color\n",
    "    if show_index:\n",
    "        for i in range(len(xs)):\n",
    "            ax.text(xs[i], ys[i], i+1)\n",
    "    if not y is None:\n",
    "        fig.colorbar(im, ax=ax)\n",
    "    for i in range(n):\n",
    "        ax.arrow(0, 0, coeff[i, 0], coeff[i,1], color = 'r',alpha = 0.5)\n",
    "        if labels is None:\n",
    "            ax.text(1.1*coeff[i,0], 1.1*coeff[i,1], \"Var\"+str(i+1), color = 'g', ha = 'center', va = 'center')\n",
    "        else:\n",
    "            ax.text(1.1*coeff[i,0], 1.1*coeff[i,1], labels[i], color = 'g', ha = 'center', va = 'center')           \n",
    "    ax.set_xlim(1.2*min(np.min(coeff[:, 0]), np.min(xs)), 1.2*max(np.max(coeff[:, 0]), np.max(xs)))\n",
    "    ax.set_ylim(1.2*min(np.min(coeff[:, 1]), np.min(ys)), 1.2*max(np.max(coeff[:, 1]), np.max(ys)))\n",
    "    ax.set_xlabel(\"PC{}\".format(1))\n",
    "    ax.set_ylabel(\"PC{}\".format(2))\n",
    "    ax.grid()\n",
    "    return(fig, ax)"
   ]
  },
  {
   "cell_type": "code",
   "execution_count": null,
   "id": "8af7c291",
   "metadata": {
    "scrolled": false
   },
   "outputs": [],
   "source": [
    "#Call the function with 2 pcs\n",
    "[fig, ax] = biplot_func(x_new[:, 0:2], pca_model, labels=df.loc[:, 'm100':'m1500'].columns, y=df['score'], show_index=True)"
   ]
  },
  {
   "cell_type": "code",
   "execution_count": null,
   "id": "c828d6d1",
   "metadata": {},
   "outputs": [],
   "source": [
    "y=df['score']\n",
    "y"
   ]
  },
  {
   "cell_type": "code",
   "execution_count": null,
   "id": "36c19811",
   "metadata": {},
   "outputs": [],
   "source": [
    "#scores figure\n",
    "def scores_plot(x_new, y):\n",
    "    fig, ax = plt.subplots()\n",
    "    pos1=x_new[:, 0]\n",
    "    pos2=x_new[:, 1]\n",
    "    color_score=np.zeros((len(pos1)), )\n",
    "    for i in range(len(pos1)):\n",
    "        color_score[i]=(y[i]-min(y))/(max(y)-min(y))\n",
    "        ax.text(pos1[i], pos2[i], s=y[i])\n",
    "    ax.scatter(pos1, pos2, c=color_score, cmap='hot')\n",
    "    return(fig, ax)"
   ]
  },
  {
   "cell_type": "code",
   "execution_count": null,
   "id": "a1e4be07",
   "metadata": {
    "scrolled": false
   },
   "outputs": [],
   "source": [
    "[fig, ax] = scores_plot(x_new, df['score'])"
   ]
  },
  {
   "cell_type": "code",
   "execution_count": null,
   "id": "57a18636",
   "metadata": {
    "scrolled": true
   },
   "outputs": [],
   "source": [
    "scree_plot(pca_model)"
   ]
  },
  {
   "cell_type": "code",
   "execution_count": null,
   "id": "2b5183be",
   "metadata": {
    "scrolled": true
   },
   "outputs": [],
   "source": [
    "iris = datasets.load_iris()\n",
    "X = iris.data\n",
    "y = iris.target\n",
    "\n",
    "# normalise and fit\n",
    "scaler.fit(X)\n",
    "X=scaler.transform(X)    \n",
    "pca_model = PCA()\n",
    "x_new = pca_model.fit_transform(X)\n",
    "\n",
    "#Call the function. Use only the 2 PCs.\n",
    "[fig, ax] = biplot_func(x_new[:, 0:2], pca_model, y=y, labels= iris.feature_names, show_index=False)"
   ]
  },
  {
   "cell_type": "code",
   "execution_count": null,
   "id": "0398c83d",
   "metadata": {
    "scrolled": true
   },
   "outputs": [],
   "source": [
    "scree_plot(pca_model)"
   ]
  },
  {
   "cell_type": "markdown",
   "id": "8bb01871",
   "metadata": {},
   "source": [
    "## t-SNE"
   ]
  },
  {
   "cell_type": "code",
   "execution_count": null,
   "id": "2a5f4993",
   "metadata": {},
   "outputs": [],
   "source": [
    "# inlezen data\n",
    "url='https://raw.githubusercontent.com/jverwaer/ugain_machine_learning/main/Data/iris.csv'\n",
    "\n",
    "df = pd.read_csv(url, sep = \";\")\n",
    "df.head()"
   ]
  },
  {
   "cell_type": "code",
   "execution_count": null,
   "id": "34c3f9c4",
   "metadata": {},
   "outputs": [],
   "source": [
    "X=np.array(df.loc[:, 'sepal length':'petal width']) #selecteer numerieke data\n",
    "tsne = TSNE(n_components=2, n_iter=1000)\n",
    "points = tsne.fit_transform(X)"
   ]
  },
  {
   "cell_type": "code",
   "execution_count": null,
   "id": "6fcb5cd6",
   "metadata": {},
   "outputs": [],
   "source": [
    "#omvormen naar dataframe\n",
    "df_tsne=pd.DataFrame()\n",
    "df_tsne['Dim1']=points[:, 0] #kolom 1\n",
    "df_tsne['Dim2']=points[:, 1] #kolom 2\n",
    "df_tsne['Soort']=df['soort'] #soort"
   ]
  },
  {
   "cell_type": "code",
   "execution_count": null,
   "id": "fc71010b",
   "metadata": {},
   "outputs": [],
   "source": [
    "#met plotnine\n",
    "(\n",
    "ggplot(mapping= aes(x='Dim1', y='Dim2'), data=df_tsne)\n",
    "+ geom_point(aes(color='Soort'))\n",
    ")"
   ]
  },
  {
   "cell_type": "markdown",
   "id": "8ccd7440",
   "metadata": {},
   "source": [
    "## UMAP"
   ]
  },
  {
   "cell_type": "markdown",
   "id": "e5498162",
   "metadata": {},
   "source": [
    "In de onderstaande sectie wordt het gebruik van UMAP (Uniform Manifold Approximation and Projection) geillustreerd. UMAP is een 'manifold learning technique', net zoals MDS. UMAP is een niet-lineaire techniek die over het algemeen goed is in het leren van een locale *en* een globale structuur tegelijk. De computatietijd van UMAP schaalt beter voor grote datasets in vergelijking met MDS. In tegenstelling tot MDS wordt een UMAP altijd rechtstreeks op de dataset uitgevoerd (er kan dus geen gebruik gemaakt worden van een afstandsmatrix).\n",
    "\n",
    "We maken gebruik van de Iris dataset vanuit de voorgaande oefeningen. Op basis van de UMAP technieken zullen we proberen om de verschillende soorten van elkaar te onderscheiden op basis van de lengte en breedte van de sepalen en petalen."
   ]
  },
  {
   "cell_type": "markdown",
   "id": "68ff5f59",
   "metadata": {},
   "source": [
    "**Stap 1: inladen UMAP en dataset**"
   ]
  },
  {
   "cell_type": "code",
   "execution_count": null,
   "id": "00c141fc",
   "metadata": {},
   "outputs": [],
   "source": [
    "!python -m pip install umap-learn\n",
    "#er is een andere module met dezelfde naam, dus je moet op deze manier importeren:\n",
    "import umap.umap_ as umap \n",
    "\n",
    "# inlezen data\n",
    "url='https://raw.githubusercontent.com/jverwaer/ugain_machine_learning/main/Data/iris.csv'\n",
    "\n",
    "df = pd.read_csv(url, sep = \";\")\n",
    "df.head()"
   ]
  },
  {
   "cell_type": "markdown",
   "id": "d4d5ffb2",
   "metadata": {},
   "source": [
    "**Stap 2: fit een reducer op de data (cfr. PCA)**"
   ]
  },
  {
   "cell_type": "code",
   "execution_count": null,
   "id": "395451ed",
   "metadata": {
    "scrolled": true
   },
   "outputs": [],
   "source": [
    "#via random_state kan je ervoor zorgen dat je \n",
    "#altijd hetzelfde resultaat krijgt als je de code opnieuw loopt\n",
    "iris_array=np.array(df.loc[:, 'sepal length':'petal width']) #selecteer numerieke data\n",
    "reducer = umap.UMAP(random_state=9000) \n",
    "reducer.fit(iris_array)"
   ]
  },
  {
   "cell_type": "markdown",
   "id": "5e4f89ee",
   "metadata": {},
   "source": [
    "**Stap 3: gebruik de reduceren om de data te transformeren naar 2D coordinaten**"
   ]
  },
  {
   "cell_type": "code",
   "execution_count": null,
   "id": "a89dfeef",
   "metadata": {},
   "outputs": [],
   "source": [
    "embedding = reducer.transform(iris_array)\n",
    "\n",
    "#omvormen naar dataframe\n",
    "df_umap=pd.DataFrame()\n",
    "df_umap['Dim1']=embedding[:, 0] #kolom 1\n",
    "df_umap['Dim2']=embedding[:, 1] #kolom 2\n",
    "df_umap['Soort']=df['soort'] #soort"
   ]
  },
  {
   "cell_type": "markdown",
   "id": "33c0b012",
   "metadata": {},
   "source": [
    "**Stap 4: plot de nieuwe coordinaten**"
   ]
  },
  {
   "cell_type": "code",
   "execution_count": null,
   "id": "48f1c443",
   "metadata": {},
   "outputs": [],
   "source": [
    "#met plotnine\n",
    "(\n",
    "ggplot(mapping = aes(x='Dim1', y='Dim2'), data=df_umap)\n",
    "+ geom_point(aes(color='Soort'))\n",
    ")"
   ]
  },
  {
   "cell_type": "markdown",
   "id": "bbd26679",
   "metadata": {},
   "source": [
    "## Extra: UMAP op digits dataset"
   ]
  },
  {
   "cell_type": "markdown",
   "id": "e6d0f80d",
   "metadata": {},
   "source": [
    "**Inladen**"
   ]
  },
  {
   "cell_type": "code",
   "execution_count": null,
   "id": "d803789a",
   "metadata": {
    "scrolled": false
   },
   "outputs": [],
   "source": [
    "#laad de digits dataset\n",
    "from sklearn.datasets import load_digits\n",
    "digits = load_digits()"
   ]
  },
  {
   "cell_type": "code",
   "execution_count": null,
   "id": "4a333db2",
   "metadata": {},
   "outputs": [],
   "source": [
    "#illustratie data\n",
    "fig, ax_array = plt.subplots(20, 20)\n",
    "axes = ax_array.flatten()\n",
    "for i, ax in enumerate(axes):\n",
    "    ax.imshow(digits.images[i], cmap='gray_r')\n",
    "plt.setp(axes, xticks=[], yticks=[], frame_on=False)\n",
    "plt.tight_layout(h_pad=0.5, w_pad=0.01)"
   ]
  },
  {
   "cell_type": "markdown",
   "id": "89669847",
   "metadata": {},
   "source": [
    "**reducer**"
   ]
  },
  {
   "cell_type": "code",
   "execution_count": null,
   "id": "07eef4dc",
   "metadata": {
    "scrolled": true
   },
   "outputs": [],
   "source": [
    "reducer = umap.UMAP(random_state=9000) \n",
    "reducer.fit(digits.data)"
   ]
  },
  {
   "cell_type": "markdown",
   "id": "5afcaa4d",
   "metadata": {},
   "source": [
    "**embedding**"
   ]
  },
  {
   "cell_type": "code",
   "execution_count": null,
   "id": "da957181",
   "metadata": {
    "scrolled": true
   },
   "outputs": [],
   "source": [
    "embedding = reducer.transform(digits.data)\n",
    "#hoe ziet de data eruit?\n",
    "embedding.shape"
   ]
  },
  {
   "cell_type": "code",
   "execution_count": null,
   "id": "bc9e020a",
   "metadata": {},
   "outputs": [],
   "source": [
    "#omvormen naar dataframe\n",
    "df_umap=pd.DataFrame()\n",
    "df_umap['Dim1']=embedding[:, 0] #kolom 1\n",
    "df_umap['Dim2']=embedding[:, 1] #kolom 2\n",
    "df_umap['Getal']=digits.target #getal"
   ]
  },
  {
   "cell_type": "markdown",
   "id": "5a1aefd2",
   "metadata": {},
   "source": [
    "**plot**"
   ]
  },
  {
   "cell_type": "code",
   "execution_count": null,
   "id": "e3369c96",
   "metadata": {
    "scrolled": true
   },
   "outputs": [],
   "source": [
    "#met plotnine\n",
    "(\n",
    "ggplot(mapping = aes(x='Dim1', y='Dim2'), data=df_umap)\n",
    "+ geom_point(aes(color='Getal'))\n",
    "+ scale_color_gradient(low='blue', high='red')\n",
    ")"
   ]
  },
  {
   "cell_type": "code",
   "execution_count": null,
   "id": "7c737b57",
   "metadata": {},
   "outputs": [],
   "source": [
    "#met matplotlib\n",
    "plt.scatter(embedding[:, 0], embedding[:, 1], c=digits.target, cmap='Spectral', s=5)\n",
    "plt.gca().set_aspect('equal', 'datalim')\n",
    "plt.colorbar(boundaries=np.arange(11)-0.5).set_ticks(np.arange(10))"
   ]
  }
 ],
 "metadata": {
  "kernelspec": {
   "display_name": "Python 3 (ipykernel)",
   "language": "python",
   "name": "python3"
  },
  "language_info": {
   "codemirror_mode": {
    "name": "ipython",
    "version": 3
   },
   "file_extension": ".py",
   "mimetype": "text/x-python",
   "name": "python",
   "nbconvert_exporter": "python",
   "pygments_lexer": "ipython3",
   "version": "3.11.5"
  }
 },
 "nbformat": 4,
 "nbformat_minor": 5
}
