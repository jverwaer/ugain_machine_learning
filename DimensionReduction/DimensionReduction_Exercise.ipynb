{
 "cells": [
  {
   "cell_type": "markdown",
   "id": "f2465bcc",
   "metadata": {},
   "source": [
    "# Dimensionaliteitsreductie\n",
    "\n",
    "@author: Jan Verwaeren - Arne Deloose\n",
    "\n",
    "@course: Machine learning: van theorie tot praktijk\n",
    "\n",
    "Deze notbook bevat enkele illustraties van frequent gebruikte dimensionaliteitsreductietechnieken:\n",
    "- (kernel) principale componenten analyse\n",
    "- (metric) Multidimensional scaling"
   ]
  },
  {
   "cell_type": "markdown",
   "id": "e29453af",
   "metadata": {},
   "source": [
    "## 1. ILLUSTRATIE: (kernel) principale componenten analyse (PCA)\n",
    "\n",
    "******\n",
    "\n",
    "In deze sectie wordt PCA geïllustreerd op enkele datasets. We gebruiken daarbij de.\n",
    "\n",
    "- iris dataset\n",
    "- olympic dataset"
   ]
  },
  {
   "cell_type": "markdown",
   "id": "da346fdb",
   "metadata": {},
   "source": [
    "**Inladen nodige libraries en enkele handige visualisatiefuncties**"
   ]
  },
  {
   "cell_type": "code",
   "execution_count": null,
   "id": "e01a2da2",
   "metadata": {},
   "outputs": [],
   "source": [
    "import pandas as pd                                # pandas dataframes\n",
    "import numpy as np                                 # numpy datastructuur voor homogene arrays (matrices)\n",
    "from sklearn.preprocessing import StandardScaler   # scikit learn: tools voor standaardiseren data (gemiddelde=0 en stdev=1)\n",
    "from sklearn.decomposition import PCA, KernelPCA   # scikit learn: klasses voor (kernel)PCA\n",
    "from sklearn.manifold import TSNE                  #TSNE\n",
    "\n",
    "import matplotlib.pyplot as plt                    # visualisatiebibliotheken\n",
    "import plotnine\n",
    "from plotnine import *\n",
    "from plotnine.data import *\n",
    "\n",
    "!pip install jellyfish\n",
    "import jellyfish #lev afstand\n",
    "\n",
    "#zelf gedefinieerde functies\n",
    "\n",
    "def scree_plot(pca_model):\n",
    "    \"\"\" genereert scree plot op basis van een gefit PCA model (argument is PCA-object, na fitten) \"\"\"\n",
    "    PC_values = np.arange(pca_model.n_components_) + 1\n",
    "    plt.plot(PC_values, pca_model.explained_variance_ratio_, 'ro-', linewidth=2)\n",
    "    plt.title('Scree Plot')\n",
    "    plt.xlabel('Principal Component')\n",
    "    plt.ylabel('Proportion of Variance Explained')\n",
    "    return()\n",
    "\n",
    "def biplot_func(score, pca_model, labels=None, y=None, show_index=False):\n",
    "    \"\"\" genereert biplot, met argumenten:\n",
    "         - score: de scores (twee eerste PC) die men wenst te visualiseren\n",
    "         - pca_model: PCA-object, na fitten\n",
    "         - labels: labels van PCs die als naam worden weergegeven\n",
    "         - y: numerical vector, length equal to the number of observations used for color-coding the datapoints\n",
    "         - show_index: geeft aan of de indices van de objecten bij de scores worden getoond\n",
    "    \"\"\"\n",
    "    coeff=np.transpose(pca_model.components_[0:2, :]).copy()\n",
    "    xs = score[:, 0]\n",
    "    ys = score[:, 1]\n",
    "    n = coeff.shape[0]\n",
    "    coeff[:, 0] = coeff[:,0]*xs.std()*np.sqrt(len(xs))\n",
    "    coeff[:, 1] = coeff[:,1]*ys.std()*np.sqrt(len(ys))\n",
    "    fig, ax = plt.subplots()\n",
    "    im = ax.scatter(xs, ys, c = y) #use y as color\n",
    "    if show_index:\n",
    "        for i in range(len(xs)):\n",
    "            ax.text(xs[i], ys[i], i+1)\n",
    "    if not y is None:\n",
    "        fig.colorbar(im, ax=ax)\n",
    "    for i in range(n):\n",
    "        ax.arrow(0, 0, coeff[i, 0], coeff[i,1], color = 'r',alpha = 0.5)\n",
    "        if labels is None:\n",
    "            ax.text(1.1*coeff[i,0], 1.1*coeff[i,1], \"Var\"+str(i+1), color = 'g', ha = 'center', va = 'center')\n",
    "        else:\n",
    "            ax.text(1.1*coeff[i,0], 1.1*coeff[i,1], labels[i], color = 'g', ha = 'center', va = 'center')           \n",
    "    ax.set_xlim(1.2*min(np.min(coeff[:, 0]), np.min(xs)), 1.2*max(np.max(coeff[:, 0]), np.max(xs)))\n",
    "    ax.set_ylim(1.2*min(np.min(coeff[:, 1]), np.min(ys)), 1.2*max(np.max(coeff[:, 1]), np.max(ys)))\n",
    "    ax.set_xlabel(\"PC{}\".format(1))\n",
    "    ax.set_ylabel(\"PC{}\".format(2))\n",
    "    ax.grid()\n",
    "    return(fig, ax)"
   ]
  },
  {
   "cell_type": "markdown",
   "id": "fa4308cb",
   "metadata": {},
   "source": [
    "**STAP 1: Inladen iris dataset**"
   ]
  },
  {
   "cell_type": "code",
   "execution_count": null,
   "id": "0093da94",
   "metadata": {},
   "outputs": [],
   "source": [
    "url='https://raw.githubusercontent.com/ArneDeloose/Ugain_MachineLearning_DataVis/main/iris.csv' #raw github link\n",
    "df=pd.read_csv(url, sep = \";\")\n",
    "df.head()"
   ]
  },
  {
   "cell_type": "markdown",
   "id": "cea6f986",
   "metadata": {},
   "source": [
    "**STAP 2: Extraheren numerieke variabelen en schalen van de data**"
   ]
  },
  {
   "cell_type": "code",
   "execution_count": null,
   "id": "0ebd0afa",
   "metadata": {},
   "outputs": [],
   "source": [
    "X = np.array(df.iloc[:,:4])\n",
    "scaler = StandardScaler()\n",
    "scaler.fit(X)\n",
    "X=scaler.transform(X)      # gemiddelde 0 en stdev 1 voor elke variabele"
   ]
  },
  {
   "cell_type": "markdown",
   "id": "b9fbbee5",
   "metadata": {},
   "source": [
    "**STAP 3: Toepassen PCA**"
   ]
  },
  {
   "cell_type": "code",
   "execution_count": null,
   "id": "5cd41a15",
   "metadata": {},
   "outputs": [],
   "source": [
    "pca_model = PCA()                   # genereren PCA object\n",
    "x_new = pca_model.fit_transform(X)  # berekenen scores en loadings (x_new bevat de scores, de loadings kan je terugvinden\n",
    "                                    # in pca_model.components_)"
   ]
  },
  {
   "cell_type": "markdown",
   "id": "dc83f7a8",
   "metadata": {},
   "source": [
    "**STAP 4: Visualiseren scores**"
   ]
  },
  {
   "cell_type": "code",
   "execution_count": null,
   "id": "41aab779",
   "metadata": {},
   "outputs": [],
   "source": [
    "# PCA scores en soort-labels samenvatten in een pandas dataframe\n",
    "df_pca = pd.DataFrame(x_new[:, 0:2], columns = [\"PC1\", \"PC2\"])\n",
    "df_pca[\"soort\"] = df[\"soort\"]\n",
    "\n",
    "# visualisatie met ggplot/plotnine\n",
    "ggplot(df_pca, aes(x = \"PC1\", y = \"PC2\", color = \"soort\")) +\\\n",
    "    geom_point() +\\\n",
    "    theme_bw()"
   ]
  },
  {
   "cell_type": "markdown",
   "id": "f3f2a2f7",
   "metadata": {},
   "source": [
    "**STAP 5: bekijken loadings**"
   ]
  },
  {
   "cell_type": "code",
   "execution_count": null,
   "id": "2bbfce9a",
   "metadata": {},
   "outputs": [],
   "source": [
    "# wrappen van loadings en variabelenamen in dataframe\n",
    "df_pca_loadings = pd.DataFrame(np.transpose(pca_model.components_[0:2, :]),\n",
    "                               columns = [\"PC1\", \"PC2\"])\n",
    "df_pca_loadings[\"variabelen\"] = df.columns[:-1]\n",
    "df_pca_loadings"
   ]
  },
  {
   "cell_type": "code",
   "execution_count": null,
   "id": "020c199a",
   "metadata": {},
   "outputs": [],
   "source": [
    "# visualiseren loadings\n",
    "ggplot(df_pca_loadings, aes(x = \"PC1\", y = \"PC2\")) +\\\n",
    "   geom_point() +\\\n",
    "   geom_text(aes(label = \"variabelen\"))"
   ]
  },
  {
   "cell_type": "markdown",
   "id": "9259027e",
   "metadata": {},
   "source": [
    "**STAP 6: combineren scores en loadings op 1 plot: de biplot**"
   ]
  },
  {
   "cell_type": "code",
   "execution_count": null,
   "id": "9b12c3ae",
   "metadata": {},
   "outputs": [],
   "source": [
    "# optional: recode 'soort' naar numerieke vector, met 'setosa' = 0, 'versicolor' = 1, 'virginica' = 2\n",
    "soort_recoded = np.unique(df[\"soort\"], return_inverse = True)[1]\n",
    "\n",
    "[fig, ax] = biplot_func(x_new[:, 0:2],\n",
    "                        pca_model,\n",
    "                        labels=df.columns[:-1],\n",
    "                        y = soort_recoded,\n",
    "                        show_index=False)"
   ]
  },
  {
   "cell_type": "markdown",
   "id": "e27d39ea",
   "metadata": {},
   "source": [
    "**STAP 7: bekijken verklaarde variabiliteit per PC**"
   ]
  },
  {
   "cell_type": "code",
   "execution_count": null,
   "id": "0761a53e",
   "metadata": {},
   "outputs": [],
   "source": [
    "scree_plot(pca_model)"
   ]
  },
  {
   "cell_type": "markdown",
   "id": "155a070c",
   "metadata": {},
   "source": [
    "## 2. Oefeningen PCA\n",
    "\n",
    "********"
   ]
  },
  {
   "cell_type": "markdown",
   "id": "e9386ef8",
   "metadata": {},
   "source": [
    "**1. Zware metalen in de Schelde**\n",
    "\n",
    "Aan het departement omgeving onderzochten enkele onderzoekers de vervuiling van grasland\n",
    "in de nabijheid van de rivier de Schelde. De concentratie van acht zware metalen (cadmium,\n",
    "chroom, koper, ijzer, mangaan, nikkel, lood, zink) werd gemeten op 19 verschillende locaties\n",
    "elke keer op een diepte van 5 en 20 cm. De nabijheid van de locatie tot de rivier werd genoteerd\n",
    "als ver(0) of dicht(1). Je vindt de data terug in **heavymetals.csv**."
   ]
  },
  {
   "cell_type": "markdown",
   "id": "c0c8c49d",
   "metadata": {},
   "source": [
    "**1.1. Lees de data in en bestudeer ze zodat je er voeling mee krijgt.**"
   ]
  },
  {
   "cell_type": "code",
   "execution_count": null,
   "id": "c63e3918",
   "metadata": {
    "scrolled": true
   },
   "outputs": [],
   "source": [
    "url='https://raw.githubusercontent.com/ArneDeloose/Ugain_MachineLearning_DataVis/main/heavymetals.csv'\n",
    "\n",
    "df=pd.read_csv(url)\n",
    "df.head()"
   ]
  },
  {
   "cell_type": "markdown",
   "id": "f8113255",
   "metadata": {},
   "source": [
    "**1.2. Voer een PCA-analyse uit. Schaal je de data of niet? Hoeveel componenten zou je behouden?**\n",
    "\n",
    "Data schalen kan je doen via:\n",
    "\n",
    "- `scaler = StandardScaler()`\n",
    "\n",
    "- `scaler.fit(X)`\n",
    "\n",
    "- `X=scaler.transform(X)`\n"
   ]
  },
  {
   "cell_type": "code",
   "execution_count": null,
   "id": "065ff9be",
   "metadata": {
    "scrolled": true
   },
   "outputs": [],
   "source": [
    "X=df.loc[:, ***]\n",
    "y=df.loc[:, ***]\n",
    "\n",
    "#schalen?\n",
    "***\n",
    "\n",
    "#PCA fitten\n",
    "pca_model = PCA()\n",
    "x_new = pca_model.fit_transform(X)\n",
    "\n",
    "#hoeveel componenten heb je nodig?\n",
    "***"
   ]
  },
  {
   "cell_type": "markdown",
   "id": "b494bed1",
   "metadata": {},
   "source": [
    "**1.3. Maak een biplot en interpreteer deze. Kleur de locaties in de biplot volgens de nabijheid bij de rivier.**"
   ]
  },
  {
   "cell_type": "code",
   "execution_count": null,
   "id": "5fdb023c",
   "metadata": {
    "scrolled": true
   },
   "outputs": [],
   "source": [
    "# 1.3. biplot\n",
    "[fig, ax] = biplot_func(***, ***, \n",
    "                        labels=df.loc[:, 'Cd5':'Zn20'].columns,  y=y)"
   ]
  },
  {
   "cell_type": "markdown",
   "id": "e2ba318d",
   "metadata": {},
   "source": [
    "**2. Gestrande dolfijnen**\n",
    "\n",
    "Van een aantal gestrande dolfijnen aan de Schotse kusten, heeft men de vetzurensamenstelling\n",
    "van hun vetlaag bestudeerd. De samenstelling - en dan vooral de hoeveelheid kortere versus\n",
    "langere en onverzadigde versus verzadigde vetzuren - kan namelijk een indicatie zijn voor het\n",
    "dieet van de dolfijnen. Voor meer dan 20 vetzuren werd de aanwezige concentratie bepaald. Je\n",
    "kan de data terugvinden in **dolfijnen.csv**.\n",
    "\n",
    "Vetzuren zijn genoteerd als FAxx.yy. De xx staat voor het aantal koolstofatomen in de vetzuurketen. De yy geeft het aantal dubbele bindingen weer. Verzadigde vetzuren hebben er geen,\n",
    "dus daar is yy gelijk aan nul. Onverzadigde vetzuren worden genoteerd als an.b, waarbij a\n",
    "het aantal dubbele bindingen geeft, en b het eerste koolstofatoom waar een dubbele binding\n",
    "voorkomt (telkens te tellen van het uiteinde, niet de -COOH kop).\n",
    "Dus bvb FA20.4n.3 is een onverzadigd vetzuur met een koolstofketen van 20 koolstofatomen\n",
    "en 4 dubbele bindingen (telkens gescheiden door een CH2) die beginnen op positie 3."
   ]
  },
  {
   "cell_type": "markdown",
   "id": "4844931b",
   "metadata": {},
   "source": [
    "**2.1. Lees de data in en bestudeer ze zodat je er voeling mee krijgt.**"
   ]
  },
  {
   "cell_type": "code",
   "execution_count": null,
   "id": "c273a0fa",
   "metadata": {
    "scrolled": true
   },
   "outputs": [],
   "source": [
    "url='https://raw.githubusercontent.com/ArneDeloose/Ugain_MachineLearning_DataVis/main/dolfijnen.csv'\n",
    "\n",
    "df=pd.read_csv(url)\n",
    "df.head()"
   ]
  },
  {
   "cell_type": "markdown",
   "id": "06b71b65",
   "metadata": {},
   "source": [
    "**2.2. Voer een PCA-analyse uit. Hoeveel dimensies zou je behouden om deze data voor te stellen?**"
   ]
  },
  {
   "cell_type": "code",
   "execution_count": null,
   "id": "93e1d1d5",
   "metadata": {
    "scrolled": true
   },
   "outputs": [],
   "source": [
    "X=***\n",
    "\n",
    "# scale data and fit pca\n",
    "scaler = StandardScaler()\n",
    "scaler.fit(X)\n",
    "X=scaler.transform(X)\n",
    "\n",
    "#PCA model fitten\n",
    "***\n",
    "\n",
    "#hoeveel componenten heb je nodig?\n",
    "***"
   ]
  },
  {
   "cell_type": "markdown",
   "id": "6b02d1e9",
   "metadata": {},
   "source": [
    "**2.3. Interpreteer de eerste component. Bekijk hiervoor de nodige diagnostische grafieken voor de eerste twee dimensies. Kijk ook eens naar de loadings voor de verschillende vetzuren.**"
   ]
  },
  {
   "cell_type": "code",
   "execution_count": null,
   "id": "f4cfb26c",
   "metadata": {
    "scrolled": true
   },
   "outputs": [],
   "source": [
    "df_pc=pd.DataFrame()\n",
    "df_pc['PC1']=pca_model.components_[***] #eerste component\n",
    "df_pc['PC2']=pca_model.components_[***] #tweede component\n",
    "df_pc['FA']=*** #naam van de vetzuren\n",
    "df_pc #toon de dataframe"
   ]
  },
  {
   "cell_type": "code",
   "execution_count": null,
   "id": "22d275d7",
   "metadata": {},
   "outputs": [],
   "source": [
    "#plot\n",
    "(\n",
    "ggplot(aes(x=***, y=***), data=***)\n",
    "+ geom_text(aes(label=***))\n",
    ")"
   ]
  },
  {
   "cell_type": "markdown",
   "id": "8236e497",
   "metadata": {},
   "source": [
    "**2.4. Er bevinden zich 4 dolfijnen in de dataset die doodgeboren zijn, kan je hen identificeren?**"
   ]
  },
  {
   "cell_type": "code",
   "execution_count": null,
   "id": "a5acc700",
   "metadata": {},
   "outputs": [],
   "source": [
    "#plotnine\n",
    "df_score=pd.DataFrame()\n",
    "df_score['x1']=*** #eerste component\n",
    "df_score['x2']=*** #tweede component\n",
    "df_score['index']=***\n",
    "\n",
    "(\n",
    "ggplot(aes(x=***, y=***), data=***)\n",
    "+ geom_text(aes(label=***))\n",
    ")"
   ]
  },
  {
   "cell_type": "markdown",
   "id": "6f4190b8",
   "metadata": {},
   "source": [
    "**EXTRA: 2.5. herhaal de vraag in 2.4 met een kernel-pca (polynomiale kernel). Bekom je hetzelfde resultaat?**"
   ]
  },
  {
   "cell_type": "code",
   "execution_count": null,
   "id": "db335394",
   "metadata": {},
   "outputs": [],
   "source": [
    "#kernel pca\n",
    "from sklearn.decomposition import KernelPCA\n",
    "***"
   ]
  },
  {
   "cell_type": "markdown",
   "id": "fdfa55af",
   "metadata": {},
   "source": [
    "## 3. ILLUSTRATIE: Multidimensional scaling (MDS)\n",
    "\n",
    "*****\n",
    "\n",
    "In de onderstaande sectie wordt het gebruik van Multdimensional Scaling (MDS geïllustreerd)."
   ]
  },
  {
   "cell_type": "markdown",
   "id": "d6ae730e",
   "metadata": {},
   "source": [
    "**STEP 1**: import libraries\n",
    "\n",
    "MDS is an example of what is generally known as manifold learning techniques. Therefore, it can be found in the `manifold` submodule of the `sklearn` package. The implementation of MDS in `sklearn` (and in particular the optimization routine behind it) relies on stress majorization, a brief description can be found [here](https://en.wikipedia.org/wiki/Stress_majorization). The documentation page of `sklearn` contains other manifold learning techniques, an overview kan be found [here](https://scikit-learn.org/stable/modules/manifold.html)."
   ]
  },
  {
   "cell_type": "code",
   "execution_count": null,
   "id": "8f0abc17",
   "metadata": {},
   "outputs": [],
   "source": [
    "import numpy as np\n",
    "import pandas as pd\n",
    "from plotnine import ggplot, aes, geom_point, geom_text, theme_bw\n",
    "from sklearn.manifold import MDS\n",
    "from sklearn.metrics.pairwise import euclidean_distances"
   ]
  },
  {
   "cell_type": "markdown",
   "id": "a144ec05",
   "metadata": {},
   "source": [
    "**STEP 2**: create distance matrix\n",
    "\n",
    "A distance matrix is a square symmetric numpy array (dimensions equal the number of objects in the dataset). In the example below, the distance matrix is hand-coded, but in most cases it is the result of some distance computation. In most applications of MDS, choosing a good distance measure (that is relevant to the problem at hand) is key to the succes of MDS. "
   ]
  },
  {
   "cell_type": "code",
   "execution_count": null,
   "id": "0576f664",
   "metadata": {},
   "outputs": [],
   "source": [
    "D = np.array([[0, 1, 2, 3],\n",
    "              [1, 0, 1, 2],\n",
    "              [2, 1, 0, 2],\n",
    "              [3, 2, 2, 0]])"
   ]
  },
  {
   "cell_type": "markdown",
   "id": "39b913f1",
   "metadata": {},
   "source": [
    "**STEP 3**: apply MDS (follows the typical workflow of sklearn). \n",
    "\n",
    "We need to provide the MDS model: (1) the number of components to use; and (2) the type of distance matrix to use. For the latter, the default is Euclidean distance, assuming that the data is a traditional table (note that if Euclidean distance is used an a regular data-table such as the iris dataset is provided as input, the result would be almost identical to PCA). In this case, however, we want to provide a precomputed distance matrix."
   ]
  },
  {
   "cell_type": "code",
   "execution_count": null,
   "id": "b88bfa68",
   "metadata": {},
   "outputs": [],
   "source": [
    "MDS_model = MDS(n_components=2, \n",
    "                dissimilarity='precomputed')\n",
    "MDS_model.fit_transform(D)"
   ]
  },
  {
   "cell_type": "markdown",
   "id": "ce689007",
   "metadata": {},
   "source": [
    "**STEP 4**: wrap results in a pandas dataframe\n",
    "\n",
    "The attribute `embedding_` contains the computed coordinates. In the example below, they are extracted and wrapped into a Pandas dataframe with column names PC1 and PC2. An additional column is added as an identifier (note that this is not stricly necessary as Pandas dataframes automatically assign an index)."
   ]
  },
  {
   "cell_type": "code",
   "execution_count": null,
   "id": "a0a34e2f",
   "metadata": {},
   "outputs": [],
   "source": [
    "df = pd.DataFrame(MDS_model.embedding_,\n",
    "                  columns = [\"PC1\", \"PC2\"])\n",
    "df[\"idx\"] = range(1, 5)"
   ]
  },
  {
   "cell_type": "markdown",
   "id": "004541ff",
   "metadata": {},
   "source": [
    "**STEP 5**: plot coordinates"
   ]
  },
  {
   "cell_type": "code",
   "execution_count": null,
   "id": "a803b8f5",
   "metadata": {},
   "outputs": [],
   "source": [
    "ggplot(df, aes(x = \"PC1\", y = \"PC2\")) +\\\n",
    "   geom_point() +\\\n",
    "   geom_text(aes(label = \"idx\"), nudge_x = 0.05) +\\\n",
    "   theme_bw()"
   ]
  },
  {
   "cell_type": "markdown",
   "id": "4498d715",
   "metadata": {},
   "source": [
    "**STEP 6**: look at the stress & do a check"
   ]
  },
  {
   "cell_type": "code",
   "execution_count": null,
   "id": "da45ce15",
   "metadata": {},
   "outputs": [],
   "source": [
    "print(\"stres: \", MDS_model.stress_)\n",
    "euclidean_distances(MDS_model.embedding_)"
   ]
  },
  {
   "cell_type": "markdown",
   "id": "faeefefa",
   "metadata": {},
   "source": [
    "## 4. Oefeningen MDS\n",
    "\n",
    "\n",
    "*******"
   ]
  },
  {
   "cell_type": "markdown",
   "id": "8e880896",
   "metadata": {},
   "source": [
    "**4.1. Vergelijking van IGHV eiwitten**\n",
    "\n",
    "Immunoglobulin Heavy Chain Variable Region eiwitten (IGHV), maken deel uit van de zware\n",
    "keten in immunoglobulines, ook wel antilichamen genoemd. Samen met de lichte ketens herkennen deze lichaamsvreemde stoffen (antigenen) en helpen zo het immuunsysteem lichaamsvreemde stoffen uit het lichaam te verwijderen. Zowel de zware keten, als de lichte keten zijn telkens opgebouwd uit een onveranderlijk deel (constant region) en een variabel deel (variable\n",
    "region). De variabele regio heeft enkele hypervariabele delen die zorgen voor de specifieke herkenning van een bepaald antigen, en minder variabele delen die voor de secundaire structuur van het eiwit zorgen.\n",
    "\n",
    "We hebben enkele eiwitsequenties van de variabele regio’s voor menselijke IGHV’s (Homo\n",
    "sapiens, n = 15), IGHV’s in muis (Mus musculus, n = 3) en IGHV’s in orang-oetang (Pongo\n",
    "albelii, n = 3). We zijn ge¨ınteresseerd of deze eiwitten tussen de verschillende species veel\n",
    "verschillen vertonen. Je vindt de eiwitsequenties terug in **eiwitseq.fa**."
   ]
  },
  {
   "cell_type": "markdown",
   "id": "239b51ad",
   "metadata": {},
   "source": [
    "**4.2. Lees de data in**"
   ]
  },
  {
   "cell_type": "code",
   "execution_count": null,
   "id": "8c9cfbc0",
   "metadata": {
    "scrolled": true
   },
   "outputs": [],
   "source": [
    "url='https://raw.githubusercontent.com/ArneDeloose/Ugain_MachineLearning_DataVis/main/eiwitseq.fa'\n",
    "df=pd.read_csv(url)\n",
    "df.head()"
   ]
  },
  {
   "cell_type": "markdown",
   "id": "2f227981",
   "metadata": {},
   "source": [
    "**4.3. Bepaal via een paarsgewijze vergelijking de Levenshtein afstand tussen de sequenties doormiddel van het jellyfish package.**"
   ]
  },
  {
   "cell_type": "code",
   "execution_count": null,
   "id": "203af247",
   "metadata": {},
   "outputs": [],
   "source": [
    "n=df.shape[0] #aantal datapunten\n",
    "\n",
    "lev_matrix=np.zeros((***, ***), dtype='int') #alloceer resultaat\n",
    "\n",
    "for i in range(***):\n",
    "    for j in range(***):\n",
    "        lev_matrix[***, ***]=jellyfish.levenshtein_distance(df[***][***], df[***][***])"
   ]
  },
  {
   "cell_type": "markdown",
   "id": "b1d78c83",
   "metadata": {},
   "source": [
    "**4.4. Voer een MDS analyse uit op de Levenshtein afstandsmatrix.**"
   ]
  },
  {
   "cell_type": "code",
   "execution_count": null,
   "id": "cb3bf246",
   "metadata": {},
   "outputs": [],
   "source": [
    "model_mds=MDS(dissimilarity=***)\n",
    "pos=model_mds.fit_transform(lev_matrix)"
   ]
  },
  {
   "cell_type": "markdown",
   "id": "6c427af9",
   "metadata": {},
   "source": [
    "**4.5. Maak een grafiek waarbij je de eiwit labels meegeeft en de punten kleurt per soort. Wat kan je hier uit besluiten?**"
   ]
  },
  {
   "cell_type": "code",
   "execution_count": null,
   "id": "e59cb9d7",
   "metadata": {},
   "outputs": [],
   "source": [
    "#plotnine\n",
    "df_mds=pd.DataFrame()\n",
    "df_mds['Dim1']=pos[***]\n",
    "df_mds['Dim2']=pos[***]\n",
    "df_mds['Soort']=*** #soort\n",
    "\n",
    "\n",
    "\n",
    "ggplot(aes(x=***, y=***), data=***) +\\\n",
    "    geom_point(aes(color=***))\n"
   ]
  },
  {
   "cell_type": "markdown",
   "id": "8bb01871",
   "metadata": {},
   "source": [
    "## 5. ILLUSTRATIE: t-SNE\n",
    "\n",
    "*****\n",
    "\n",
    "In de onderstaande sectie wordt het gebruik van t-SNE geïllustreerd."
   ]
  },
  {
   "cell_type": "markdown",
   "id": "05d69f09",
   "metadata": {},
   "source": [
    "**Stap 1: inladen data**"
   ]
  },
  {
   "cell_type": "code",
   "execution_count": 37,
   "id": "2a5f4993",
   "metadata": {
    "scrolled": true
   },
   "outputs": [
    {
     "data": {
      "text/html": [
       "<div>\n",
       "<style scoped>\n",
       "    .dataframe tbody tr th:only-of-type {\n",
       "        vertical-align: middle;\n",
       "    }\n",
       "\n",
       "    .dataframe tbody tr th {\n",
       "        vertical-align: top;\n",
       "    }\n",
       "\n",
       "    .dataframe thead th {\n",
       "        text-align: right;\n",
       "    }\n",
       "</style>\n",
       "<table border=\"1\" class=\"dataframe\">\n",
       "  <thead>\n",
       "    <tr style=\"text-align: right;\">\n",
       "      <th></th>\n",
       "      <th>sepal length</th>\n",
       "      <th>sepal width</th>\n",
       "      <th>petal length</th>\n",
       "      <th>petal width</th>\n",
       "      <th>soort</th>\n",
       "    </tr>\n",
       "  </thead>\n",
       "  <tbody>\n",
       "    <tr>\n",
       "      <th>0</th>\n",
       "      <td>5.1</td>\n",
       "      <td>3.5</td>\n",
       "      <td>1.4</td>\n",
       "      <td>0.2</td>\n",
       "      <td>setosa</td>\n",
       "    </tr>\n",
       "    <tr>\n",
       "      <th>1</th>\n",
       "      <td>4.9</td>\n",
       "      <td>3.0</td>\n",
       "      <td>1.4</td>\n",
       "      <td>0.2</td>\n",
       "      <td>setosa</td>\n",
       "    </tr>\n",
       "    <tr>\n",
       "      <th>2</th>\n",
       "      <td>4.7</td>\n",
       "      <td>3.2</td>\n",
       "      <td>1.3</td>\n",
       "      <td>0.2</td>\n",
       "      <td>setosa</td>\n",
       "    </tr>\n",
       "    <tr>\n",
       "      <th>3</th>\n",
       "      <td>4.6</td>\n",
       "      <td>3.1</td>\n",
       "      <td>1.5</td>\n",
       "      <td>0.2</td>\n",
       "      <td>setosa</td>\n",
       "    </tr>\n",
       "    <tr>\n",
       "      <th>4</th>\n",
       "      <td>5.0</td>\n",
       "      <td>3.6</td>\n",
       "      <td>1.4</td>\n",
       "      <td>0.2</td>\n",
       "      <td>setosa</td>\n",
       "    </tr>\n",
       "  </tbody>\n",
       "</table>\n",
       "</div>"
      ],
      "text/plain": [
       "   sepal length  sepal width  petal length  petal width   soort\n",
       "0           5.1          3.5           1.4          0.2  setosa\n",
       "1           4.9          3.0           1.4          0.2  setosa\n",
       "2           4.7          3.2           1.3          0.2  setosa\n",
       "3           4.6          3.1           1.5          0.2  setosa\n",
       "4           5.0          3.6           1.4          0.2  setosa"
      ]
     },
     "execution_count": 37,
     "metadata": {},
     "output_type": "execute_result"
    }
   ],
   "source": [
    "# inlezen data\n",
    "url='https://raw.githubusercontent.com/ArneDeloose/Ugain_MachineLearning_DataVis/main/iris.csv'\n",
    "\n",
    "df = pd.read_csv(url, sep = \";\")\n",
    "df.head()"
   ]
  },
  {
   "cell_type": "markdown",
   "id": "0afee75d",
   "metadata": {},
   "source": [
    "**Stap 2: fit tsne**"
   ]
  },
  {
   "cell_type": "code",
   "execution_count": 38,
   "id": "34c3f9c4",
   "metadata": {},
   "outputs": [],
   "source": [
    "X=np.array(df.loc[:, 'sepal length':'petal width']) #selecteer numerieke data\n",
    "tsne = TSNE(n_components=2, n_iter=1000)\n",
    "points = tsne.fit_transform(X)"
   ]
  },
  {
   "cell_type": "markdown",
   "id": "779d6960",
   "metadata": {},
   "source": [
    "**Stap 3: vorm om naar dataframe**"
   ]
  },
  {
   "cell_type": "code",
   "execution_count": 39,
   "id": "6fcb5cd6",
   "metadata": {},
   "outputs": [],
   "source": [
    "#omvormen naar dataframe\n",
    "df_tsne=pd.DataFrame()\n",
    "df_tsne['Dim1']=points[:, 0] #kolom 1\n",
    "df_tsne['Dim2']=points[:, 1] #kolom 2\n",
    "df_tsne['Soort']=df['soort'] #soort"
   ]
  },
  {
   "cell_type": "markdown",
   "id": "e133bcc0",
   "metadata": {},
   "source": [
    "**Stap 4: plot coordinaten**"
   ]
  },
  {
   "cell_type": "code",
   "execution_count": 40,
   "id": "fc71010b",
   "metadata": {},
   "outputs": [
    {
     "data": {
      "image/png": "[encoded data removed]",
      "text/plain": [
       "<Figure size 640x480 with 1 Axes>"
      ]
     },
     "metadata": {},
     "output_type": "display_data"
    },
    {
     "data": {
      "text/plain": [
       "<ggplot: (-9223371947334077640)>"
      ]
     },
     "execution_count": 40,
     "metadata": {},
     "output_type": "execute_result"
    }
   ],
   "source": [
    "#met plotnine\n",
    "(\n",
    "ggplot(aes(x='Dim1', y='Dim2'), data=df_tsne)\n",
    "+ geom_point(aes(color='Soort'))\n",
    ")"
   ]
  },
  {
   "cell_type": "markdown",
   "id": "8ccd7440",
   "metadata": {},
   "source": [
    "## 6. ILLUSTRATIE: UMAP\n",
    "\n",
    "*****\n",
    "\n",
    "In de onderstaande sectie wordt het gebruik van UMAP (Uniform Manifold Approximation and Projection)  geïllustreerd."
   ]
  },
  {
   "cell_type": "markdown",
   "id": "68ff5f59",
   "metadata": {},
   "source": [
    "**Stap 1: inladen UMAP en dataset**"
   ]
  },
  {
   "cell_type": "code",
   "execution_count": 15,
   "id": "00c141fc",
   "metadata": {},
   "outputs": [
    {
     "name": "stderr",
     "output_type": "stream",
     "text": [
      "WARNING: You are using pip version 21.3.1; however, version 22.2.2 is available.\n",
      "You should consider upgrading via the 'c:\\users\\adloose\\appdata\\local\\continuum\\anaconda3\\python.exe -m pip install --upgrade pip' command.\n"
     ]
    },
    {
     "name": "stdout",
     "output_type": "stream",
     "text": [
      "Requirement already satisfied: umap-learn in c:\\users\\adloose\\appdata\\local\\continuum\\anaconda3\\lib\\site-packages (0.5.3)\n",
      "Requirement already satisfied: pynndescent>=0.5 in c:\\users\\adloose\\appdata\\local\\continuum\\anaconda3\\lib\\site-packages (from umap-learn) (0.5.7)\n",
      "Requirement already satisfied: scipy>=1.0 in c:\\users\\adloose\\appdata\\local\\continuum\\anaconda3\\lib\\site-packages (from umap-learn) (1.7.1)\n",
      "Requirement already satisfied: scikit-learn>=0.22 in c:\\users\\adloose\\appdata\\local\\continuum\\anaconda3\\lib\\site-packages (from umap-learn) (0.24.2)\n",
      "Requirement already satisfied: tqdm in c:\\users\\adloose\\appdata\\roaming\\python\\python37\\site-packages (from umap-learn) (4.62.3)\n",
      "Requirement already satisfied: numpy>=1.17 in c:\\users\\adloose\\appdata\\roaming\\python\\python37\\site-packages (from umap-learn) (1.21.4)\n",
      "Requirement already satisfied: numba>=0.49 in c:\\users\\adloose\\appdata\\local\\continuum\\anaconda3\\lib\\site-packages (from umap-learn) (0.53.1)\n",
      "Requirement already satisfied: setuptools in c:\\users\\adloose\\appdata\\local\\continuum\\anaconda3\\lib\\site-packages (from numba>=0.49->umap-learn) (58.0.4)\n",
      "Requirement already satisfied: llvmlite<0.37,>=0.36.0rc1 in c:\\users\\adloose\\appdata\\local\\continuum\\anaconda3\\lib\\site-packages (from numba>=0.49->umap-learn) (0.36.0)\n",
      "Requirement already satisfied: joblib>=0.11 in c:\\users\\adloose\\appdata\\roaming\\python\\python37\\site-packages (from pynndescent>=0.5->umap-learn) (1.1.0)\n",
      "Requirement already satisfied: threadpoolctl>=2.0.0 in c:\\users\\adloose\\appdata\\local\\continuum\\anaconda3\\lib\\site-packages (from scikit-learn>=0.22->umap-learn) (2.2.0)\n",
      "Requirement already satisfied: colorama in c:\\users\\adloose\\appdata\\roaming\\python\\python37\\site-packages (from tqdm->umap-learn) (0.4.4)\n"
     ]
    },
    {
     "data": {
      "text/html": [
       "<div>\n",
       "<style scoped>\n",
       "    .dataframe tbody tr th:only-of-type {\n",
       "        vertical-align: middle;\n",
       "    }\n",
       "\n",
       "    .dataframe tbody tr th {\n",
       "        vertical-align: top;\n",
       "    }\n",
       "\n",
       "    .dataframe thead th {\n",
       "        text-align: right;\n",
       "    }\n",
       "</style>\n",
       "<table border=\"1\" class=\"dataframe\">\n",
       "  <thead>\n",
       "    <tr style=\"text-align: right;\">\n",
       "      <th></th>\n",
       "      <th>sepal length</th>\n",
       "      <th>sepal width</th>\n",
       "      <th>petal length</th>\n",
       "      <th>petal width</th>\n",
       "      <th>soort</th>\n",
       "    </tr>\n",
       "  </thead>\n",
       "  <tbody>\n",
       "    <tr>\n",
       "      <th>0</th>\n",
       "      <td>5.1</td>\n",
       "      <td>3.5</td>\n",
       "      <td>1.4</td>\n",
       "      <td>0.2</td>\n",
       "      <td>setosa</td>\n",
       "    </tr>\n",
       "    <tr>\n",
       "      <th>1</th>\n",
       "      <td>4.9</td>\n",
       "      <td>3.0</td>\n",
       "      <td>1.4</td>\n",
       "      <td>0.2</td>\n",
       "      <td>setosa</td>\n",
       "    </tr>\n",
       "    <tr>\n",
       "      <th>2</th>\n",
       "      <td>4.7</td>\n",
       "      <td>3.2</td>\n",
       "      <td>1.3</td>\n",
       "      <td>0.2</td>\n",
       "      <td>setosa</td>\n",
       "    </tr>\n",
       "    <tr>\n",
       "      <th>3</th>\n",
       "      <td>4.6</td>\n",
       "      <td>3.1</td>\n",
       "      <td>1.5</td>\n",
       "      <td>0.2</td>\n",
       "      <td>setosa</td>\n",
       "    </tr>\n",
       "    <tr>\n",
       "      <th>4</th>\n",
       "      <td>5.0</td>\n",
       "      <td>3.6</td>\n",
       "      <td>1.4</td>\n",
       "      <td>0.2</td>\n",
       "      <td>setosa</td>\n",
       "    </tr>\n",
       "  </tbody>\n",
       "</table>\n",
       "</div>"
      ],
      "text/plain": [
       "   sepal length  sepal width  petal length  petal width   soort\n",
       "0           5.1          3.5           1.4          0.2  setosa\n",
       "1           4.9          3.0           1.4          0.2  setosa\n",
       "2           4.7          3.2           1.3          0.2  setosa\n",
       "3           4.6          3.1           1.5          0.2  setosa\n",
       "4           5.0          3.6           1.4          0.2  setosa"
      ]
     },
     "execution_count": 15,
     "metadata": {},
     "output_type": "execute_result"
    }
   ],
   "source": [
    "!pip install umap-learn\n",
    "#er is een andere module met dezelfde naam, dus je moet op deze manier importeren:\n",
    "import umap.umap_ as umap \n",
    "\n",
    "# inlezen data\n",
    "url='https://raw.githubusercontent.com/ArneDeloose/Ugain_MachineLearning_DataVis/main/iris.csv'\n",
    "\n",
    "df = pd.read_csv(url, sep = \";\")\n",
    "df.head()"
   ]
  },
  {
   "cell_type": "markdown",
   "id": "d4d5ffb2",
   "metadata": {},
   "source": [
    "**Stap 2: fit een reducer op de data (cfr. PCA)**"
   ]
  },
  {
   "cell_type": "code",
   "execution_count": 16,
   "id": "395451ed",
   "metadata": {
    "scrolled": true
   },
   "outputs": [
    {
     "data": {
      "text/plain": [
       "UMAP(random_state=9000, tqdm_kwds={'bar_format': '{desc}: {percentage:3.0f}%| {bar} {n_fmt}/{total_fmt} [{elapsed}]', 'desc': 'Epochs completed', 'disable': True})"
      ]
     },
     "execution_count": 16,
     "metadata": {},
     "output_type": "execute_result"
    }
   ],
   "source": [
    "#via random_state kan je ervoor zorgen dat je \n",
    "#altijd hetzelfde resultaat krijgt als je de code opnieuw loopt\n",
    "iris_array=np.array(df.loc[:, 'sepal length':'petal width']) #selecteer numerieke data\n",
    "reducer = umap.UMAP(random_state=9000) \n",
    "reducer.fit(iris_array)"
   ]
  },
  {
   "cell_type": "markdown",
   "id": "5e4f89ee",
   "metadata": {},
   "source": [
    "**Stap 3: gebruik de reduceren om de data te transformeren naar 2D coordinaten**"
   ]
  },
  {
   "cell_type": "code",
   "execution_count": 17,
   "id": "a89dfeef",
   "metadata": {},
   "outputs": [],
   "source": [
    "embedding = reducer.transform(iris_array)\n",
    "\n",
    "#omvormen naar dataframe\n",
    "df_umap=pd.DataFrame()\n",
    "df_umap['Dim1']=embedding[:, 0] #kolom 1\n",
    "df_umap['Dim2']=embedding[:, 1] #kolom 2\n",
    "df_umap['Soort']=df['soort'] #soort"
   ]
  },
  {
   "cell_type": "markdown",
   "id": "33c0b012",
   "metadata": {},
   "source": [
    "**Stap 4: plot de nieuwe coordinaten**"
   ]
  },
  {
   "cell_type": "code",
   "execution_count": 22,
   "id": "48f1c443",
   "metadata": {},
   "outputs": [
    {
     "data": {
      "image/png": "[encoded data removed]",
      "text/plain": [
       "<Figure size 640x480 with 1 Axes>"
      ]
     },
     "metadata": {},
     "output_type": "display_data"
    },
    {
     "data": {
      "text/plain": [
       "<ggplot: (-9223371947343866016)>"
      ]
     },
     "execution_count": 22,
     "metadata": {},
     "output_type": "execute_result"
    }
   ],
   "source": [
    "#met plotnine\n",
    "(\n",
    "ggplot(aes(x='Dim1', y='Dim2'), data=df_umap)\n",
    "+ geom_point(aes(color='Soort'))\n",
    ")"
   ]
  },
  {
   "cell_type": "code",
   "execution_count": null,
   "id": "973e832c",
   "metadata": {},
   "outputs": [],
   "source": []
  }
 ],
 "metadata": {
  "kernelspec": {
   "display_name": "Python 3 (ipykernel)",
   "language": "python",
   "name": "python3"
  },
  "language_info": {
   "codemirror_mode": {
    "name": "ipython",
    "version": 3
   },
   "file_extension": ".py",
   "mimetype": "text/x-python",
   "name": "python",
   "nbconvert_exporter": "python",
   "pygments_lexer": "ipython3",
   "version": "3.7.4"
  }
 },
 "nbformat": 4,
 "nbformat_minor": 5
}
