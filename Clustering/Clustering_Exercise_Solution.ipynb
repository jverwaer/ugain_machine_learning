{
 "cells": [
  {
   "cell_type": "markdown",
   "metadata": {},
   "source": [
    "# Clustering\n",
    "\n",
    "@author: Jan Verwaeren - Arne Deloose\n",
    "\n",
    "@course: Machine learning: van theorie tot praktijk\n",
    "\n",
    "Deze notebook bevat enkele illustraties van frequent gebruikte clustering technieken:\n",
    "- K-means\n",
    "- Gaussian Mixture Models\n",
    "- Hierarchische clustering\n",
    "- Mean shift\n",
    "- Dbscan"
   ]
  },
  {
   "cell_type": "markdown",
   "metadata": {},
   "source": [
    "**Importeer nodige modules**"
   ]
  },
  {
   "cell_type": "code",
   "execution_count": null,
   "metadata": {},
   "outputs": [],
   "source": [
    "import pandas as pd\n",
    "import seaborn as sns\n",
    "\n",
    "from sklearn.metrics import davies_bouldin_score\n",
    "from sklearn.decomposition import PCA\n",
    "from sklearn import cluster, mixture"
   ]
  },
  {
   "cell_type": "markdown",
   "metadata": {},
   "source": [
    "# 1. Illustratie op de iris dataset"
   ]
  },
  {
   "cell_type": "code",
   "execution_count": null,
   "metadata": {},
   "outputs": [],
   "source": [
    "#iris dataset\n",
    "url='https://raw.githubusercontent.com/jverwaer/ugain_machine_learning/main/Data/iris.csv' #raw github link\n",
    "df=pd.read_csv(url, sep = \";\")\n",
    "df.head()"
   ]
  },
  {
   "cell_type": "code",
   "execution_count": null,
   "metadata": {},
   "outputs": [],
   "source": [
    "#maak iris zonder soort erbij voor clustering\n",
    "df_iris = df.copy()\n",
    "df_iris = df_iris.drop('soort', axis=1)\n",
    "\n",
    "#doe een PCA voor visualisaties\n",
    "pca_model = PCA()                   # genereren PCA object\n",
    "x_new = pca_model.fit_transform(df_iris)  # berekenen scores en loadings (x_new bevat de scores, de loadings kan je terugvinden\n",
    "                                    # in pca_model.components_)\n",
    "\n",
    "#maak een plot dataframe\n",
    "df_plot = pd.DataFrame({'Dim1': x_new[:, 0], \n",
    "                        'Dim2': x_new[:, 1], \n",
    "                        'soort': df['soort'], \n",
    "                        'cluster': 0})\n",
    "df_plot.head()"
   ]
  },
  {
   "cell_type": "markdown",
   "metadata": {},
   "source": [
    "**Originele clusters (soorten)**"
   ]
  },
  {
   "cell_type": "code",
   "execution_count": null,
   "metadata": {},
   "outputs": [],
   "source": [
    "#maak plot   \n",
    "sns.relplot(df_plot,\n",
    "            x='Dim1',\n",
    "            y='Dim2',\n",
    "            hue='soort')"
   ]
  },
  {
   "cell_type": "markdown",
   "metadata": {},
   "source": [
    "Het resultaat van een clustering kan gevisualiseerd worden op dezelfde manier door in deze functie 'soort' te vervangen door 'cluster'"
   ]
  },
  {
   "cell_type": "markdown",
   "metadata": {},
   "source": [
    "## K-means"
   ]
  },
  {
   "cell_type": "code",
   "execution_count": null,
   "metadata": {},
   "outputs": [],
   "source": [
    "# k-means clustering\n",
    "kmeans = cluster.KMeans(n_clusters=3, max_iter=300).fit_predict(df_iris)\n",
    "\n",
    "#voeg resultaat toe aan plot data\n",
    "df_plot['cluster']=kmeans\n",
    "\n",
    "#maak plot   \n",
    "sns.relplot(df_plot,\n",
    "            x='Dim1',\n",
    "            y='Dim2',\n",
    "            hue='cluster')"
   ]
  },
  {
   "cell_type": "markdown",
   "metadata": {},
   "source": [
    "Zoals we kunnen zien is de clustering zeer gelijkaardig met de originele soorten. De Davies-Bouldin index kan berekend worden via:"
   ]
  },
  {
   "cell_type": "code",
   "execution_count": null,
   "metadata": {},
   "outputs": [],
   "source": [
    "davies_bouldin_score(df_iris, kmeans)"
   ]
  },
  {
   "cell_type": "markdown",
   "metadata": {},
   "source": [
    "## Gaussian Mixture Modelling with Expectation Maximisation (EM)"
   ]
  },
  {
   "cell_type": "code",
   "execution_count": null,
   "metadata": {},
   "outputs": [],
   "source": [
    "# k-means clustering\n",
    "em = mixture.GaussianMixture(n_components=3, covariance_type='full').fit(df_iris)\n",
    "\n",
    "#voeg resultaat toe aan plot data\n",
    "df_plot['cluster']=em.predict(df_iris)\n",
    "\n",
    "#maak plot   \n",
    "sns.relplot(df_plot,\n",
    "            x='Dim1',\n",
    "            y='Dim2',\n",
    "            hue='cluster')"
   ]
  },
  {
   "cell_type": "code",
   "execution_count": null,
   "metadata": {},
   "outputs": [],
   "source": [
    "davies_bouldin_score(df_iris, em.predict(df_iris))"
   ]
  },
  {
   "cell_type": "markdown",
   "metadata": {},
   "source": [
    "## Hierarchische clustering"
   ]
  },
  {
   "cell_type": "code",
   "execution_count": null,
   "metadata": {},
   "outputs": [],
   "source": [
    "hc = cluster.AgglomerativeClustering(n_clusters=3, \n",
    "                                     linkage='ward').fit_predict(df_iris)\n",
    "\n",
    "#voeg resultaat toe aan plot data\n",
    "df_plot['cluster']=hc\n",
    "\n",
    "#maak plot   \n",
    "sns.relplot(df_plot,\n",
    "            x='Dim1',\n",
    "            y='Dim2',\n",
    "            hue='cluster')"
   ]
  },
  {
   "cell_type": "code",
   "execution_count": null,
   "metadata": {},
   "outputs": [],
   "source": [
    "davies_bouldin_score(df_iris, hc)"
   ]
  },
  {
   "cell_type": "markdown",
   "metadata": {},
   "source": [
    "## Mean shift"
   ]
  },
  {
   "cell_type": "code",
   "execution_count": null,
   "metadata": {},
   "outputs": [],
   "source": [
    "bandwidths = [cluster.estimate_bandwidth(df_iris, quantile=0.1)]\n",
    "meanshifts = [cluster.MeanShift(bandwidth=band, bin_seeding=True).fit(dataset) \n",
    "              for dataset,band in zip([df_iris],bandwidths)]\n",
    "\n",
    "\n",
    "#voeg resultaat toe aan plot data\n",
    "df_plot['cluster']=meanshifts[0].predict(df_iris)\n",
    "\n",
    "#maak plot   \n",
    "sns.relplot(df_plot,\n",
    "            x='Dim1',\n",
    "            y='Dim2',\n",
    "            hue='cluster')"
   ]
  },
  {
   "cell_type": "code",
   "execution_count": null,
   "metadata": {},
   "outputs": [],
   "source": [
    "davies_bouldin_score(df_iris, meanshifts[0].predict(df_iris))"
   ]
  },
  {
   "cell_type": "markdown",
   "metadata": {},
   "source": [
    "## DBSCAN"
   ]
  },
  {
   "cell_type": "code",
   "execution_count": null,
   "metadata": {},
   "outputs": [],
   "source": [
    "dbscan = cluster.DBSCAN(eps=1, min_samples=5, metric='euclidean').fit_predict(df_iris)\n",
    "\n",
    "#voeg resultaat toe aan plot data\n",
    "df_plot['cluster']=dbscan\n",
    "\n",
    "#maak plot   \n",
    "sns.relplot(df_plot,\n",
    "            x='Dim1',\n",
    "            y='Dim2',\n",
    "            hue='cluster')"
   ]
  },
  {
   "cell_type": "code",
   "execution_count": null,
   "metadata": {},
   "outputs": [],
   "source": [
    "davies_bouldin_score(df_iris, dbscan)"
   ]
  },
  {
   "cell_type": "markdown",
   "metadata": {
    "collapsed": true
   },
   "source": [
    "# 2. Oefening\n",
    "\n",
    "Maak gebruik van de Olympic dataset\n",
    "\n",
    "- Maak een plot van de punten via een PCA\n",
    "- Kies op basis hiervan een clustering techniek om toe te passen (en eventueel een aantal clusters ook)\n",
    "- Bereken de Davis-Bouldin index"
   ]
  },
  {
   "cell_type": "code",
   "execution_count": null,
   "metadata": {},
   "outputs": [],
   "source": [
    "#data inlezen\n",
    "url='https://raw.githubusercontent.com/jverwaer/ugain_machine_learning/main/Data/olympic.csv' #raw github link\n",
    "df_olympic=pd.read_csv(url)\n",
    "df_olympic2 = df_olympic.drop('score', axis = 1)\n",
    "df_olympic2.head()"
   ]
  },
  {
   "cell_type": "code",
   "execution_count": null,
   "metadata": {},
   "outputs": [],
   "source": [
    "#doe een PCA voor visualisaties\n",
    "pca_model = PCA()                   # genereren PCA object\n",
    "x_new = pca_model.fit_transform(df_olympic2)  # berekenen scores en loadings (x_new bevat de scores, de loadings kan je terugvinden\n",
    "                                    # in pca_model.components_)\n",
    "\n",
    "#maak een plot dataframe\n",
    "df_plot_olympic = pd.DataFrame({'Dim1': x_new[:, 0], \n",
    "                        'Dim2': x_new[:, 1], \n",
    "                        'score': df_olympic['score'], \n",
    "                        'cluster': 0})\n",
    "df_plot_olympic.head()"
   ]
  },
  {
   "cell_type": "code",
   "execution_count": null,
   "metadata": {},
   "outputs": [],
   "source": [
    "#maak plot   \n",
    "sns.relplot(df_plot_olympic,\n",
    "            x='Dim1',\n",
    "            y='Dim2')"
   ]
  },
  {
   "cell_type": "code",
   "execution_count": null,
   "metadata": {},
   "outputs": [],
   "source": [
    "# k-means clustering\n",
    "kmeans = cluster.KMeans(n_clusters=3, max_iter=300).fit_predict(df_olympic2)\n",
    "\n",
    "#voeg resultaat toe aan plot data\n",
    "df_plot_olympic['cluster']=kmeans\n",
    "\n",
    "#maak plot   \n",
    "sns.relplot(df_plot_olympic,\n",
    "            x='Dim1',\n",
    "            y='Dim2',\n",
    "            hue='cluster')"
   ]
  },
  {
   "cell_type": "code",
   "execution_count": null,
   "metadata": {},
   "outputs": [],
   "source": [
    "davies_bouldin_score(df_olympic2, kmeans)"
   ]
  },
  {
   "cell_type": "code",
   "execution_count": null,
   "metadata": {},
   "outputs": [],
   "source": []
  }
 ],
 "metadata": {
  "anaconda-cloud": {},
  "kernelspec": {
   "display_name": "Python 3",
   "language": "python",
   "name": "python3"
  },
  "language_info": {
   "codemirror_mode": {
    "name": "ipython",
    "version": 3
   },
   "file_extension": ".py",
   "mimetype": "text/x-python",
   "name": "python",
   "nbconvert_exporter": "python",
   "pygments_lexer": "ipython3",
   "version": "3.11.5"
  }
 },
 "nbformat": 4,
 "nbformat_minor": 1
}
