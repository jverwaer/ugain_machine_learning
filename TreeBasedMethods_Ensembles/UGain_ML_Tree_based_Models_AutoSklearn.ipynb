{
  "cells": [
    {
      "cell_type": "markdown",
      "metadata": {
        "id": "KrE9FZvJo_1J"
      },
      "source": [
        "# **UGain ML Tree-based Models auto-sklearn**"
      ]
    },
    {
      "cell_type": "markdown",
      "metadata": {},
      "source": [
        "In this notebook, auto-sklearn is illustrated. This is a toolkit that automates algorithm selection and hyperparameter tuning."
      ]
    },
    {
      "cell_type": "markdown",
      "metadata": {
        "id": "zzyz8bLHpHLI"
      },
      "source": [
        "**1. Import Libraries**"
      ]
    },
    {
      "cell_type": "markdown",
      "metadata": {},
      "source": [
        "First we need to import several libraries. Auto-sklearn does not come with google colab by default, therefore we use pip install."
      ]
    },
    {
      "cell_type": "code",
      "execution_count": null,
      "metadata": {
        "colab": {
          "base_uri": "https://localhost:8080/"
        },
        "id": "H-rU_pRdAJEW",
        "outputId": "73cf2d4d-c0d0-4d01-e569-189c3ef92e97"
      },
      "outputs": [],
      "source": [
        "!pip install auto-sklearn"
      ]
    },
    {
      "cell_type": "code",
      "execution_count": null,
      "metadata": {
        "id": "3cK5O2zIAo_z"
      },
      "outputs": [],
      "source": [
        "# Auto-Sklearn\n",
        "\n",
        "# Basic libraries\n",
        "import pandas as pd\n",
        "import numpy as np\n",
        "import warnings\n",
        "warnings.simplefilter(\"ignore\", UserWarning)\n",
        "warnings.simplefilter(\"ignore\", RuntimeWarning)\n",
        "\n",
        "# Sklearn\n",
        "## Data\n",
        "from sklearn.datasets import load_diabetes\n",
        "from sklearn.model_selection import train_test_split\n",
        "\n",
        "## Models\n",
        "from sklearn import tree\n",
        "from sklearn import ensemble\n",
        "from sklearn.model_selection import GridSearchCV\n",
        "\n",
        "## Model Explaination\n",
        "from sklearn.inspection import permutation_importance\n",
        "\n",
        "## Metrics\n",
        "from sklearn.metrics import mean_squared_error\n",
        "\n",
        "# XGBoost\n",
        "import xgboost\n",
        "\n",
        "# Plotting\n",
        "import graphviz\n",
        "import seaborn as sns\n",
        "import matplotlib.pyplot as plt\n",
        "from IPython.display import display\n",
        "\n",
        "# Auto-Sklearn\n",
        "try:\n",
        "  import autosklearn.regression\n",
        "  import autosklearn.metrics\n",
        "finally:\n",
        "  import autosklearn.regression\n",
        "  import autosklearn.metrics"
      ]
    },
    {
      "cell_type": "markdown",
      "metadata": {},
      "source": [
        "Next, we load the dataset and split into training and test. Seed ensures we always get the same split."
      ]
    },
    {
      "cell_type": "code",
      "execution_count": null,
      "metadata": {},
      "outputs": [],
      "source": [
        "# Load dataset\n",
        "diabetes_data = load_diabetes()\n",
        "predictors = diabetes_data['data']\n",
        "labels = diabetes_data['target']\n",
        "\n",
        "# Parameters\n",
        "seed = 0\n",
        "\n",
        "# Train - Test Split\n",
        "X_train, X_test, y_train, y_test = train_test_split(predictors, \n",
        "                                                    labels, \n",
        "                                                    random_state=seed)"
      ]
    },
    {
      "cell_type": "markdown",
      "metadata": {
        "id": "oTTWj4mZod5I"
      },
      "source": [
        "**2. Use AutoML to fit the best model**"
      ]
    },
    {
      "cell_type": "markdown",
      "metadata": {},
      "source": [
        "Now we are ready to fit the model. This happens in 4 steps:\n",
        "- Define the model\n",
        "- Fit to training data\n",
        "- Calculate rmse for train and test. Print to the screen\n",
        "- Print out the final models ('leaderboard')\n",
        "\n",
        "First we define and fit the model"
      ]
    },
    {
      "cell_type": "code",
      "execution_count": null,
      "metadata": {
        "colab": {
          "base_uri": "https://localhost:8080/"
        },
        "id": "FpV8DtZd0Aby",
        "outputId": "bdfed2a7-737e-4544-eca4-e43e43aaa9e6"
      },
      "outputs": [],
      "source": [
        "# Define AutoML regression model from Auto-Sklearn\n",
        "automl = autosklearn.regression.AutoSklearnRegressor(time_left_for_this_task=120,\n",
        "                                                     metric=autosklearn.metrics.root_mean_squared_error)\n",
        "\n",
        "# Fit AutoML regression model \n",
        "automl.fit(X_train, y_train)"
      ]
    },
    {
      "cell_type": "markdown",
      "metadata": {},
      "source": [
        "Next, we define a simple function that calculates the rmse and then we use it to get the train and test rmse values"
      ]
    },
    {
      "cell_type": "code",
      "execution_count": null,
      "metadata": {},
      "outputs": [],
      "source": [
        "#simple function to calculate rmse\n",
        "def get_rmse(model, predictors, labels):\n",
        "  predictions = model.predict(predictors)\n",
        "  rmse = mean_squared_error(labels, predictions, squared=False)\n",
        "  return rmse\n",
        "\n",
        "# Calculate root mean square error of the train and test sets\n",
        "train_rmse = get_rmse(automl, X_train, y_train)\n",
        "test_rmse = get_rmse(automl, X_test, y_test)\n",
        "\n",
        "# Verbose\n",
        "print(\"Train set root mean squared error is: {} and test set root mean squared error is: {}\".format(round(train_rmse, 4), \n",
        "                                                                                                    round(test_rmse, 4)))"
      ]
    },
    {
      "cell_type": "markdown",
      "metadata": {},
      "source": [
        "Finally, we can take a look at the leaderboard"
      ]
    },
    {
      "cell_type": "code",
      "execution_count": null,
      "metadata": {},
      "outputs": [],
      "source": [
        "# Verbose Final Model Leaderboard from AutoML\n",
        "print(automl.leaderboard())"
      ]
    }
  ],
  "metadata": {
    "colab": {
      "collapsed_sections": [],
      "provenance": [],
      "toc_visible": true
    },
    "kernelspec": {
      "display_name": "Python 3",
      "name": "python3"
    },
    "language_info": {
      "name": "python"
    }
  },
  "nbformat": 4,
  "nbformat_minor": 0
}
