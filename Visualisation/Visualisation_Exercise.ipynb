{
 "cells": [
  {
   "cell_type": "markdown",
   "id": "ae3b5011",
   "metadata": {},
   "source": [
    "# Datavisualisatie\n",
    "\n",
    "@author: Jan Verwaeren - Arne Deloose\n",
    "\n",
    "@course: *Machine learning: van theorie tot praktijk*\n",
    "\n",
    "Dit notebook bevat enkele illustraties van datavisualisatie in Python. In het eerste deel worden een aantal voorbeelden gegeven. In het tweede deel staan de oefeningen die aangevuld kunnen worden.\n",
    "\n",
    "In deze sessie wordt (beperkt) gebruikgemaakt van de visualisatiemodule `matplotlib`. Dit is een zeer populaire low-level plotting library en is de basis voor meer high-level interfaces, zoals `plotnine` of `seaborn`. De high-level libraries zijn vaak gebruiksvrindelijker dan `matplotlib` en daarom zullen we voornamelijk deze gaan gebruiken in deze sessie, en in het bijzonder `seaborn`.\n"
   ]
  },
  {
   "cell_type": "markdown",
   "id": "43f29e3a",
   "metadata": {},
   "source": [
    "## 1. Importeren van modules"
   ]
  },
  {
   "cell_type": "code",
   "execution_count": null,
   "id": "1ee5dfdd",
   "metadata": {},
   "outputs": [],
   "source": [
    "#importeer \n",
    "import pandas as pd               # pandas voor gebruik van de dataframe datastructuur\n",
    "import numpy as np                # numpy voor implementatie van homogene arrays (matrices)\n",
    "import matplotlib.pyplot as plt   # low-level plotting\n",
    "import seaborn as sns             # high-level plotting"
   ]
  },
  {
   "cell_type": "markdown",
   "id": "5fa05b56",
   "metadata": {},
   "source": [
    "## 2. Illustraties van matplotlib\n",
    "\n",
    "Hieronder volgt een illustratie van het gebruik van matplotlib voor het maken van een scatter plot en een histogram. Voor beide wordt iris-dataset gebruikt."
   ]
  },
  {
   "cell_type": "code",
   "execution_count": null,
   "id": "97875d15",
   "metadata": {},
   "outputs": [],
   "source": [
    "# inlezen data\n",
    "url='https://raw.githubusercontent.com/jverwaer/ugain_machine_learning/main/Data/iris.csv'\n",
    "\n",
    "df = pd.read_csv(url, sep = \";\")\n",
    "df.head()"
   ]
  },
  {
   "cell_type": "markdown",
   "id": "47392068",
   "metadata": {},
   "source": [
    "**Is er een verband tussen de lengte van de sepalen en de petalen?**\n",
    "\n",
    "Hieronder volgt een scatter plot die illustreert dat er inderdaad een verband aanwezig is."
   ]
  },
  {
   "cell_type": "code",
   "execution_count": null,
   "id": "f4a871ae",
   "metadata": {},
   "outputs": [],
   "source": [
    "plt.scatter(x = df[\"sepal length\"],    # variabele x-as\n",
    "            y = df[\"petal length\"],    # variabele y-as\n",
    "            c = \"r\")                   # kleur van markers\n",
    "plt.xlabel(\"Sepal Length\")             # benoemen x- en y-as\n",
    "plt.ylabel(\"Sepal Width\")"
   ]
  },
  {
   "cell_type": "markdown",
   "id": "36f5442e",
   "metadata": {},
   "source": [
    "**Bepaal de frequentieverdeling van de lengte van de sepalen**\n",
    "\n",
    "Hieronder volgt een histogram."
   ]
  },
  {
   "cell_type": "code",
   "execution_count": null,
   "id": "4f152741",
   "metadata": {},
   "outputs": [],
   "source": [
    "plt.hist(df[\"sepal length\"])\n",
    "plt.xlabel(\"Sepal Length\")"
   ]
  },
  {
   "cell_type": "markdown",
   "id": "3f776256",
   "metadata": {},
   "source": [
    "## 3. Illustraties van seaborn\n",
    "\n",
    "Meer complexe plots dan de bovenstaande vergen al snel een aantal minder intuitieve manipulaties, wat leidt tot onoverzichtelijke broncode die bovendien moeilijker aan te passen is. Hierna gebruiken we `seaborn` als een meer high-level alternatief."
   ]
  },
  {
   "cell_type": "markdown",
   "id": "95778bac",
   "metadata": {},
   "source": [
    "**Is er een verband tussen de lengte van de sepalen en de petalen?**"
   ]
  },
  {
   "cell_type": "code",
   "execution_count": null,
   "id": "ff8ae234",
   "metadata": {},
   "outputs": [],
   "source": [
    "sns.relplot(df,\n",
    "            x='sepal length',\n",
    "            y='petal length')"
   ]
  },
  {
   "cell_type": "markdown",
   "id": "41ab292e",
   "metadata": {},
   "source": [
    "**Bepaal de frequentieverdeling van de lengte van de sepalen**"
   ]
  },
  {
   "cell_type": "code",
   "execution_count": null,
   "id": "faa428bb",
   "metadata": {},
   "outputs": [],
   "source": [
    "sns.histplot(df,\n",
    "             x='sepal length')"
   ]
  },
  {
   "cell_type": "markdown",
   "id": "65f14086",
   "metadata": {},
   "source": [
    "**Wat is de invloed van de soort op de breedte van de sepalen?**"
   ]
  },
  {
   "cell_type": "code",
   "execution_count": null,
   "id": "916990a3",
   "metadata": {},
   "outputs": [],
   "source": [
    "sns.boxplot(df,\n",
    "            x='soort',\n",
    "            y='sepal length')"
   ]
  },
  {
   "cell_type": "markdown",
   "id": "b12dc5cf",
   "metadata": {},
   "source": [
    "**Kan men op basis van de Sepal length en Sepal width de soorten onderscheiden van elkaar?**"
   ]
  },
  {
   "cell_type": "code",
   "execution_count": null,
   "id": "8e7e16e0",
   "metadata": {},
   "outputs": [],
   "source": [
    "sns.relplot(df,\n",
    "            x='sepal length',\n",
    "            y='petal length',\n",
    "            hue='soort')"
   ]
  },
  {
   "cell_type": "markdown",
   "id": "6c207583",
   "metadata": {},
   "source": [
    "**Is het verband tussen sepalen en petalen hetzelfde voor de drie soorten?**"
   ]
  },
  {
   "cell_type": "code",
   "execution_count": null,
   "id": "3edeadda",
   "metadata": {},
   "outputs": [],
   "source": [
    "sns.lmplot(df,\n",
    "            x='sepal width',\n",
    "            y='petal width',\n",
    "            col='soort')"
   ]
  },
  {
   "cell_type": "markdown",
   "id": "ab9d32b8",
   "metadata": {},
   "source": [
    "## 4. Oefeningen"
   ]
  },
  {
   "cell_type": "markdown",
   "id": "b63dccc4",
   "metadata": {},
   "source": [
    "In deze oefeningensessie werken we met de `msleep`. Deze dataset bevat gegevens over het slaappatroon van 83 dieren. Hieronder wordt een deel van deze dataset getoond."
   ]
  },
  {
   "cell_type": "code",
   "execution_count": null,
   "id": "8b1a69ee",
   "metadata": {
    "scrolled": true
   },
   "outputs": [],
   "source": [
    "# inlezen data\n",
    "url='https://raw.githubusercontent.com/jverwaer/ugain_machine_learning/main/Data/msleep.csv'\n",
    "\n",
    "msleep = pd.read_csv(url, sep = \",\")\n",
    "msleep.head()"
   ]
  },
  {
   "cell_type": "markdown",
   "id": "23934485",
   "metadata": {},
   "source": [
    "**1.1. Maak een histogram voor totale slaap. Gebruik 10 bins en kleur de grafiek donkerblauw\n",
    "(darkblue).**\n",
    "\n",
    "OPMERKING: veel van de code die je hieronder nodig hebt kan je kopiëren uit de bovenstaande voorbeelden. Informatie over opties die hiervoor niet besproken werden kan je eenvoudig terugvinden dmv een zoekterm die `seaborn` bevat samen met de naam van de eigenschap waarnaar je op zoek bent."
   ]
  },
  {
   "cell_type": "code",
   "execution_count": null,
   "id": "abae9bae",
   "metadata": {},
   "outputs": [],
   "source": [
    "sns.histplot(msleep,\n",
    "             ***)"
   ]
  },
  {
   "cell_type": "markdown",
   "id": "e7cd065b",
   "metadata": {},
   "source": [
    "**1.2. Maak een boxplot voor rem slaap per type *voor* (omnivoor, carnivoor, insectivoor, herbivoor). Kleur de boxplot donkergrijs (darkgrey).**"
   ]
  },
  {
   "cell_type": "code",
   "execution_count": null,
   "id": "067ff281",
   "metadata": {},
   "outputs": [],
   "source": [
    "sns.boxplot(msleep,\n",
    "            ***)"
   ]
  },
  {
   "cell_type": "markdown",
   "id": "78b5fc89",
   "metadata": {},
   "source": [
    "**1.3. Maak een scatter plot van het aantal uren remslaap en het totaal aantal uren slaap per *voor* groep. Stijgt de hoeveelheid remslaap op dezelfde manier met het totale aantal uren slaap voor elke groep?**"
   ]
  },
  {
   "cell_type": "code",
   "execution_count": null,
   "id": "8b0fed32",
   "metadata": {},
   "outputs": [],
   "source": [
    "sns.relplot(msleep,\n",
    "            ***)"
   ]
  },
  {
   "cell_type": "markdown",
   "id": "5f96665a",
   "metadata": {},
   "source": [
    "**1.4.: EXTRA - GEBRUIK HET WWW:  De `mtcars` dataset bevat informatie over verschillende wagens.**\n",
    "\n",
    "Enkele variabelen (van belang voor deze oefening) zijn:\n",
    "- mpg: miles per gallon (verbruik aan benzine)\n",
    "- cyl: het aantal cilinders\n",
    "- am: manuele (1) of automatische (0) versnellingsbak\n",
    "\n",
    "Gebruik deze informatie om de volgende plot na te maken, die voor elke combinatie van `cyl` en `carb` de gemiddelde `mpg` toont als een barplot (en optioneel alsook een foutenvlag op dit gemiddelde). "
   ]
  },
  {
   "cell_type": "markdown",
   "id": "98a7da30",
   "metadata": {},
   "source": [
    "![image](https://raw.githubusercontent.com/jverwaer/ugain_machine_learning/main/Data/mtcars_plot.png)"
   ]
  },
  {
   "cell_type": "code",
   "execution_count": null,
   "id": "f150ccce",
   "metadata": {},
   "outputs": [],
   "source": [
    "# inlezen data\n",
    "url='https://raw.githubusercontent.com/jverwaer/ugain_machine_learning/main/Data/mtcars.csv'\n",
    "\n",
    "mtcars = pd.read_csv(url, sep = \",\")\n",
    "mtcars.head()"
   ]
  },
  {
   "cell_type": "code",
   "execution_count": null,
   "id": "de6081ba",
   "metadata": {},
   "outputs": [],
   "source": [
    "sns.barplot(mtcars,\n",
    "            ***)"
   ]
  },
  {
   "cell_type": "code",
   "execution_count": null,
   "id": "08bdbe2b",
   "metadata": {},
   "outputs": [],
   "source": []
  }
 ],
 "metadata": {
  "kernelspec": {
   "display_name": "Python 3 (ipykernel)",
   "language": "python",
   "name": "python3"
  },
  "language_info": {
   "codemirror_mode": {
    "name": "ipython",
    "version": 3
   },
   "file_extension": ".py",
   "mimetype": "text/x-python",
   "name": "python",
   "nbconvert_exporter": "python",
   "pygments_lexer": "ipython3",
   "version": "3.11.5"
  }
 },
 "nbformat": 4,
 "nbformat_minor": 5
}
